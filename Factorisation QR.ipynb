{
 "cells": [
  {
   "cell_type": "markdown",
   "id": "fd1b8d7c-3265-4f2f-be85-fc7a41e27ebd",
   "metadata": {},
   "source": [
    "# Factorisation QR"
   ]
  },
  {
   "cell_type": "markdown",
   "id": "ed43c605-4acb-44d3-ab13-394cdf4aa7ce",
   "metadata": {},
   "source": [
    "## Introduction"
   ]
  },
  {
   "cell_type": "markdown",
   "id": "af57a81c-2fdd-40e0-b2fc-cac9e9b887c0",
   "metadata": {},
   "source": [
    "La décomposition QR est un outil fondamental en algèbre linéaire, utilisé notamment pour résoudre des systèmes linéaires ou pour calculer des valeurs propres.\n",
    "\n",
    "L'objectif de la décomposition QR d'une matrice $A$ à coefficients réels inversible est d'écrire $A$ sous la forme :\n",
    "\n",
    "$$\n",
    "A = QR\n",
    "$$\n",
    "\n",
    "où $Q$ est une matrice orthogonale ($Q^{-1} = Q^\\top$) et $R$ est une matrice triangulaire supérieure avec des coefficients diagonaux strictement positifs.\n",
    "\n",
    "Cette décomposition est **unique**.\n",
    "\n",
    "Si la matrice $A$ n'est pas inversible, elle peut toujours se décomposer sous cette forme, mais cette fois-ci les coefficients diagonaux de $R$ ne sont pas tous strictement positifs et la décomposition n'est pas forcément **unique**.\n",
    "\n",
    "Cette décomposition se base sur le processus d'orthonormalisation de Gram-Schmidt.\n",
    "\n"
   ]
  },
  {
   "cell_type": "markdown",
   "id": "06eb5217-5c0f-4ba2-ba86-9424ecf5c7c6",
   "metadata": {},
   "source": [
    "## Définition et propriété"
   ]
  },
  {
   "cell_type": "markdown",
   "id": "db7271d5-4c18-46fd-b98e-24634cf21ab4",
   "metadata": {},
   "source": [
    "### Définition"
   ]
  },
  {
   "cell_type": "markdown",
   "id": "e8e8dfb7-3648-4078-92f7-633b5ce703b4",
   "metadata": {},
   "source": [
    "Soit $A \\in \\mathbb{R}^{m \\times n}$ une matrice. Une **décomposition QR** de $A$ est une factorisation de la forme :\n",
    "\n",
    "$$\n",
    "A = QR\n",
    "$$\n",
    "\n",
    "où :\n",
    "\n",
    "- $Q$ est une matrice **orthogonale** ($Q^\\top Q = I$),  \n",
    "- $R$ est une matrice **triangulaire supérieure** (avec éventuellement des zéros si $m > n$)."
   ]
  },
  {
   "cell_type": "markdown",
   "id": "dc187110-4149-4b54-a37e-be0bf53a7b6a",
   "metadata": {},
   "source": [
    "### Proposition"
   ]
  },
  {
   "cell_type": "markdown",
   "id": "2de1c399-64db-4da1-b8c5-b257eb220aac",
   "metadata": {},
   "source": [
    "Soit $A \\in M_n(\\mathbb{R})$ une matrice carrée et inversible. Alors $A$ admet une **unique décomposition QR** :\n",
    "\n",
    "$$\n",
    "A = QR\n",
    "$$\n",
    "\n",
    "où $Q$ est une matrice orthogonale ($Q^\\top Q = I_n$) et $R$ est une matrice triangulaire supérieure avec des coefficients diagonaux strictement positifs.\n",
    " "
   ]
  },
  {
   "cell_type": "markdown",
   "id": "c8820269-09b7-4588-8cb8-7c91c935f880",
   "metadata": {},
   "source": [
    "### Démonstration"
   ]
  },
  {
   "cell_type": "markdown",
   "id": "f8990a7c-76be-4281-a22b-f69dcb50429b",
   "metadata": {},
   "source": [
    "<u>**1. Existence**\n",
    "- Soit les colonnes de $A$ notées $a_1, a_2, \\dots, a_n$.  \n",
    "- On construit une base orthonormée $q_1, q_2, \\dots, q_n$ par le **procédé de Gram-Schmidt** :\n",
    "\n",
    "$$\n",
    "\\begin{aligned}\n",
    "u_1 &= a_1, & q_1 = \\frac{u_1}{\\|u_1\\|}, \\\\\n",
    "u_2 &= a_2 - \\langle a_2, q_1 \\rangle q_1, & q_2 = \\frac{u_2}{\\|u_2\\|}, \\\\\n",
    "&\\vdots \\\\\n",
    "u_k &= a_k - \\sum_{j=1}^{k-1} \\langle a_k, q_j \\rangle q_j, & q_k = \\frac{u_k}{\\|u_k\\|}, \\\\\n",
    "&\\vdots \\\\\n",
    "u_n &= a_n - \\sum_{j=1}^{n-1} \\langle a_n, q_j \\rangle q_j, & q_n = \\frac{u_n}{\\|u_n\\|}.\n",
    "\\end{aligned}\n",
    "$$\n",
    "\n",
    "- On définit $Q = [q_1 \\ q_2 \\ \\dots \\ q_n]$ et $R$ par :\n",
    "\n",
    "$$\n",
    "R = \n",
    "\\begin{bmatrix}\n",
    "\\|u_1\\| & \\langle q_1, a_2 \\rangle & \\dots & \\langle q_1, a_n \\rangle \\\\\n",
    "0 & \\|u_2\\| & \\dots & \\langle q_2, a_n \\rangle \\\\\n",
    "\\vdots & & \\ddots & \\vdots \\\\\n",
    "0 & 0 & \\dots & \\|u_n\\|\n",
    "\\end{bmatrix}.\n",
    "$$\n",
    "\n",
    "- Par construction, $Q$ est orthogonale et $R$ est triangulaire supérieure avec des **diagonales strictement positives** car $A$ est inversible.\n",
    "\n",
    "Ainsi, **l’existence** est prouvée.\n",
    "\n",
    "---\n",
    "\n",
    "<u>**2. Unicité**\n",
    "\n",
    "- Supposons qu’il existe deux décompositions :\n",
    "\n",
    "$$\n",
    "A = Q_1 R_1 = Q_2 R_2\n",
    "$$\n",
    "\n",
    "avec $Q_1, Q_2$ orthogonales et $R_1, R_2$ triangulaires supérieures à diagonales strictement positives.  \n",
    "\n",
    "- On a alors :\n",
    "\n",
    "$$\n",
    "Q_2^{-1} Q_1 = R_2 R_1^{-1}.\n",
    "$$\n",
    "\n",
    "- Le membre de gauche est orthogonal, le membre de droite est triangulaire supérieure avec diagonales strictement positives.  \n",
    "- La seule matrice qui est à la fois orthogonale et triangulaire supérieure avec des diagonales strictement positives est la **matrice identité**.  \n",
    "\n",
    "Donc :\n",
    "\n",
    "$$\n",
    "Q_1 = Q_2 \\quad \\text{et} \\quad R_1 = R_2.\n",
    "$$\n",
    "\n",
    "Ainsi, l'**unicité** est prouvée."
   ]
  },
  {
   "cell_type": "markdown",
   "id": "6d141a92-3144-4434-9a06-1dff91f97e44",
   "metadata": {},
   "source": [
    "## Algorithme"
   ]
  },
  {
   "cell_type": "markdown",
   "id": "dbac71d2-7882-4a7f-ad28-c76bf8c6c03e",
   "metadata": {},
   "source": [
    "Pour calculer la décomposition QR d'une matrice $A \\in M_n(\\mathbb{R})$, on peut utiliser plusieurs méthodes. La plus classique est le **procédé de Gram-Schmidt**.\n"
   ]
  },
  {
   "cell_type": "markdown",
   "id": "0b40482b-7b54-48bb-a5de-170b62f83fa0",
   "metadata": {},
   "source": [
    "### Algorithme de Gram-Schmidt"
   ]
  },
  {
   "cell_type": "markdown",
   "id": "83d6017a-b1ad-47b1-993f-b9080cb57994",
   "metadata": {},
   "source": [
    "**Entrée :** Une matrice $A = [a_1, a_2, \\dots, a_n]$ de taille $n \\times n$.  \n",
    "**Sortie :** Matrices $Q$ orthogonale et $R$ triangulaire supérieure.\n",
    "\n",
    "**Étapes :**\n",
    "\n",
    "1. Initialiser $Q = [\\,]$ et $R = 0_{n \\times n}$.  \n",
    "2. Pour $k = 1$ à $n$ :\n",
    "   1. Calculer $u_k = a_k - \\sum_{j=1}^{k-1} \\langle a_k, q_j \\rangle q_j$.  \n",
    "   2. Calculer $r_{kk} = \\|u_k\\|$.  \n",
    "   3. Poser $q_k = u_k / r_{kk}$.  \n",
    "   4. Pour $j = k+1$ à $n$, calculer $r_{kj} = \\langle q_k, a_j \\rangle$.  \n",
    "   5. Ajouter $q_k$ comme colonne de $Q$.  \n",
    "3. La matrice $R = [r_{ij}]$ est triangulaire supérieure et $A = QR$.\n",
    "\n",
    "\n",
    "\n",
    "\n",
    "\n",
    "\n"
   ]
  },
  {
   "cell_type": "markdown",
   "id": "d405c771-3203-4472-a105-170d0a554afb",
   "metadata": {},
   "source": [
    "### Remarques"
   ]
  },
  {
   "cell_type": "markdown",
   "id": "3cf7b127-a279-4b41-a49d-d68884297e7e",
   "metadata": {},
   "source": [
    "- Pour les matrices **rectangulaires $m \\times n$**, le procédé est similaire, mais $Q$ sera $m \\times m$ et $R$ $m \\times n$.  \n",
    "- Des méthodes plus stables numériquement existent : **Householder** et **Givens rotations**, particulièrement utiles en calcul scientifique."
   ]
  },
  {
   "cell_type": "markdown",
   "id": "bf9c8b88-4ed1-46a0-89be-1e214270aeb0",
   "metadata": {},
   "source": [
    "### Implémentation"
   ]
  },
  {
   "cell_type": "markdown",
   "id": "e6832f85-b3d0-4d69-b474-625b1b0ec6e4",
   "metadata": {},
   "source": [
    "#### Construction de Q"
   ]
  },
  {
   "cell_type": "code",
   "execution_count": 2,
   "id": "1b471546-99f4-454d-9e40-ee2827ceebd2",
   "metadata": {},
   "outputs": [],
   "source": [
    "import numpy as np"
   ]
  },
  {
   "cell_type": "code",
   "execution_count": 3,
   "id": "20f2141e-d4f1-4406-8fd8-d85d90a23a12",
   "metadata": {},
   "outputs": [],
   "source": [
    "def qr_Q(A):\n",
    "    \n",
    "    \n",
    "    \"\"\"\n",
    "    \n",
    "    Construction de la matrice Q pour la décomposition QR d'une matrice A de rang plein à n lignes et m colonne n>=m\n",
    "    \"\"\"\n",
    "    n, m = A.shape\n",
    "    Q = np.zeros((n, m))\n",
    "\n",
    "    for i in range(m):\n",
    "        v = A[:, i].copy()  # évite de modifier A directement\n",
    "        for k in range(i):\n",
    "            qk = Q[:, k]\n",
    "            # Produit scalaire seulement une fois\n",
    "            coeff = np.dot(v, qk) / np.dot(qk, qk)\n",
    "            v -= coeff * qk  # projection soustraite\n",
    "        norm_v = np.linalg.norm(v)\n",
    "        if norm_v < 1e-12:\n",
    "            raise ValueError(f\"Colonne {i} dépendante des précédentes\")\n",
    "        Q[:, i] = v / norm_v  # Normalisation\n",
    "\n",
    "    return Q"
   ]
  },
  {
   "cell_type": "markdown",
   "id": "6146cb6e-4456-4a5b-927e-eab4938ebc1f",
   "metadata": {},
   "source": [
    "#### Vérification de l'orthogonalité"
   ]
  },
  {
   "cell_type": "code",
   "execution_count": 4,
   "id": "e056056a-f285-4077-b690-82735cdf49cc",
   "metadata": {},
   "outputs": [
    {
     "name": "stdout",
     "output_type": "stream",
     "text": [
      "True\n"
     ]
    }
   ],
   "source": [
    "A = np.random.rand(5, 3)\n",
    "Q = qr_Q(A)\n",
    "\n",
    "# Vérification : Q^T Q ≈ identité\n",
    "print(np.allclose(Q.T @ Q, np.eye(Q.shape[1])))  # → True attendu\n"
   ]
  },
  {
   "cell_type": "markdown",
   "id": "13525414-89b4-448c-adf2-8d8c44401427",
   "metadata": {},
   "source": [
    "#### Construction de R"
   ]
  },
  {
   "cell_type": "code",
   "execution_count": 5,
   "id": "0268d81c-9784-4354-82fb-eb00fc0cadad",
   "metadata": {},
   "outputs": [],
   "source": [
    "def qr_R(A,Q):\n",
    "\n",
    "    \"\"\"\n",
    "    \n",
    "    Construction de la matrice R pour la décomposition QR d'une matrice A de rang plein à n lignes et m colonne n>=m\n",
    "    \"\"\"\n",
    "    m = A.shape[1]\n",
    "    R = np.zeros((m,m))\n",
    "    for j in range(m):\n",
    "        for i in range(j + 1):\n",
    "            R[i,j] = np.dot(Q[:, i],A[:, j])\n",
    "    return R"
   ]
  },
  {
   "cell_type": "markdown",
   "id": "9bc9a28b-1ad1-4ae0-89ee-9963f0bf486c",
   "metadata": {},
   "source": [
    "Ou plus simplement"
   ]
  },
  {
   "cell_type": "code",
   "execution_count": 15,
   "id": "78a3f3da-51bf-4d2d-a0a7-00fece92dddc",
   "metadata": {},
   "outputs": [],
   "source": [
    "def qr_R_vectorized(A, Q):\n",
    "    return Q.T @ A"
   ]
  },
  {
   "cell_type": "markdown",
   "id": "824c81ad-a7ea-43d0-892d-1898121c04a4",
   "metadata": {},
   "source": [
    "#### Vérification A = QR"
   ]
  },
  {
   "cell_type": "code",
   "execution_count": 6,
   "id": "2bb372d9-f10f-44ad-b8e4-b5f4579fb613",
   "metadata": {},
   "outputs": [
    {
     "name": "stdout",
     "output_type": "stream",
     "text": [
      "True\n"
     ]
    }
   ],
   "source": [
    "A = np.random.rand(6, 4)\n",
    "Q = qr_Q(A)\n",
    "R = qr_R(A, Q)\n",
    "\n",
    "A_reconstruite = Q @ R\n",
    "print(np.allclose(A, A_reconstruite))  # → True attendu\n"
   ]
  },
  {
   "cell_type": "code",
   "execution_count": 7,
   "id": "2b9ac116-af44-4132-af22-941da7f61664",
   "metadata": {},
   "outputs": [
    {
     "name": "stdout",
     "output_type": "stream",
     "text": [
      "True\n"
     ]
    }
   ],
   "source": [
    "A = np.random.rand(5, 3)\n",
    "Q_np, R_np = np.linalg.qr(A)\n",
    "Q = qr_Q(A)\n",
    "R = qr_R(A, Q)\n",
    "\n",
    "print(np.allclose(Q @ R, Q_np @ R_np))  # → True attendu"
   ]
  },
  {
   "cell_type": "markdown",
   "id": "19135276-48d8-4178-991d-b48b4a8293ab",
   "metadata": {},
   "source": [
    "## Application à la résolution de l'équation linéaire Ax = b"
   ]
  },
  {
   "cell_type": "markdown",
   "id": "80d4bc49-9928-4474-8983-fe2204d52c78",
   "metadata": {},
   "source": [
    "Soit $A \\in M_n(\\mathbb{R})$ une matrice carrée et inversible, et $b \\in \\mathbb{R}^n$. On souhaite résoudre le système linéaire :\n",
    "\n",
    "$$\n",
    "Ax = b.\n",
    "$$"
   ]
  },
  {
   "cell_type": "markdown",
   "id": "ec2a0a3b-203d-4b92-b3f4-993fb5ca6d7e",
   "metadata": {},
   "source": [
    "### Utilisation de la décomposition QR"
   ]
  },
  {
   "cell_type": "markdown",
   "id": "50c409ef-9643-4312-b147-74757f4768cc",
   "metadata": {},
   "source": [
    "Si $A = QR$ est la décomposition QR de $A$, alors :\n",
    "\n",
    "$$\n",
    "Ax = QRx = b.\n",
    "$$\n",
    "\n",
    "En multipliant les deux côtés par $Q^\\top$ (qui est l’inverse de $Q$) :\n",
    "\n",
    "$$\n",
    "Q^\\top Q R x = Q^\\top b \\implies R x = Q^\\top b.\n",
    "$$\n",
    "\n",
    "Ainsi, la résolution de $Ax = b$ se réduit à résoudre le **système triangulaire supérieur** :\n",
    "\n",
    "$$\n",
    "R x = Q^\\top b.\n",
    "$$"
   ]
  },
  {
   "cell_type": "markdown",
   "id": "3f78c31f-5d2f-4260-ba58-9b9da8b003c5",
   "metadata": {},
   "source": [
    "### Résolution par substitution arrière"
   ]
  },
  {
   "cell_type": "markdown",
   "id": "6b425f75-45cd-4170-b5f4-02166e0f0ecb",
   "metadata": {},
   "source": [
    "\n",
    "Puisque $R$ est triangulaire supérieure, on peut calculer $x$ en procédant **de bas en haut** :\n",
    "\n",
    "1. $x_n = \\frac{(Q^\\top b)_n}{R_{nn}}$  \n",
    "2. $x_{n-1} = \\frac{(Q^\\top b)_{n-1} - R_{n-1,n} x_n}{R_{n-1,n-1}}$  \n",
    "3. Et ainsi de suite jusqu'à $x_1$."
   ]
  },
  {
   "cell_type": "markdown",
   "id": "c3079b1c-01d9-4cec-881c-8c70b1713736",
   "metadata": {},
   "source": [
    "### Avantages"
   ]
  },
  {
   "cell_type": "markdown",
   "id": "a57de06c-3f15-4124-bc05-699366de9aff",
   "metadata": {},
   "source": [
    "- Pas besoin d’inverser $A$ directement, ce qui améliore la **stabilité numérique**.  \n",
    "- Peut être généralisé aux matrices rectangulaires $m \\times n$ pour résoudre des problèmes de **moindres carrés** :\n",
    "\n",
    "$$\n",
    "\\min_x \\|Ax - b\\|_2.\n",
    "$$"
   ]
  },
  {
   "cell_type": "markdown",
   "id": "26750ff9-7b6e-4093-aeb2-f8cab4f342bb",
   "metadata": {},
   "source": [
    "### Implémentation"
   ]
  },
  {
   "cell_type": "markdown",
   "id": "f2dd252c-7684-44b0-a498-ff9ae741dba2",
   "metadata": {},
   "source": [
    "#### Création d'une fonction permettant de transposer une matrice"
   ]
  },
  {
   "cell_type": "code",
   "execution_count": 8,
   "id": "90d10c47-3388-411d-be1a-41f9c882ea0f",
   "metadata": {},
   "outputs": [],
   "source": [
    "def transpose(T):\n",
    "    n,m = T.shape\n",
    "    B = np.zeros((m,n))\n",
    "    for i in range(n):\n",
    "        for j in range(m):\n",
    "            \n",
    "            B[j,i] = T[i,j]\n",
    "    return B\n",
    "            \n"
   ]
  },
  {
   "cell_type": "markdown",
   "id": "4a9bfeaf-4df0-40c9-adb7-875fa0046524",
   "metadata": {},
   "source": [
    "#### Résolution d'un système traingulaire supérieure"
   ]
  },
  {
   "cell_type": "code",
   "execution_count": 9,
   "id": "4084803f-1013-42c7-b7f7-85588b15063f",
   "metadata": {},
   "outputs": [],
   "source": [
    "def resolve_tri_sup(R,c):\n",
    "    n=R.shape[0]\n",
    "    x=np.zeros(n)\n",
    "    for i in range(n - 1,-1,-1):\n",
    "        somme = 0\n",
    "        for k in range(i + 1, n):\n",
    "            somme += R[i,k] * x[k]\n",
    "        x[i] = (c[i] - somme) / R[i, i]\n",
    "    return x"
   ]
  },
  {
   "cell_type": "markdown",
   "id": "a404c493-e187-43a1-8aad-246252c2c9d2",
   "metadata": {},
   "source": [
    "#### Résolution de Ax = b"
   ]
  },
  {
   "cell_type": "code",
   "execution_count": 10,
   "id": "25794b50-8290-4885-96dd-67ea5f4855c2",
   "metadata": {},
   "outputs": [],
   "source": [
    "def resolve_QR(A,b):\n",
    "    Q = qr_Q(A)\n",
    "    R = qr_R(A,Q)\n",
    "    c = transpose(Q) @ b\n",
    "    x = resolve_tri_sup(R,c)\n",
    "    return x\n",
    "    "
   ]
  },
  {
   "cell_type": "markdown",
   "id": "d795a84e-70da-499c-bfe9-6313f650ec69",
   "metadata": {},
   "source": [
    "#### Vérification"
   ]
  },
  {
   "cell_type": "code",
   "execution_count": 11,
   "id": "fc4f1058-f520-46c8-a2d9-149deb308acd",
   "metadata": {},
   "outputs": [
    {
     "name": "stdout",
     "output_type": "stream",
     "text": [
      "x trouvé : [ 2. -1.]\n",
      "x exact  : [ 2. -1.]\n",
      "Erreur absolue : [3.33066907e-15 2.77555756e-15]\n",
      "Correct ? True\n"
     ]
    }
   ],
   "source": [
    "A = np.array([[1., 2.],\n",
    "              [3., 4.],\n",
    "              [5., 6.]])\n",
    "\n",
    "# Vecteur x exact\n",
    "x_exact = np.array([2., -1.])\n",
    "\n",
    "# Calcul de b = A @ x\n",
    "b = A @ x_exact\n",
    "\n",
    "# Résolution QR\n",
    "x_approx = resolve_QR(A, b)\n",
    "\n",
    "# Résultat\n",
    "print(\"x trouvé :\", x_approx)\n",
    "print(\"x exact  :\", x_exact)\n",
    "print(\"Erreur absolue :\", np.abs(x_approx - x_exact))\n",
    "print(\"Correct ?\", np.allclose(x_approx, x_exact))"
   ]
  }
 ],
 "metadata": {
  "kernelspec": {
   "display_name": "Python [conda env:base] *",
   "language": "python",
   "name": "conda-base-py"
  },
  "language_info": {
   "codemirror_mode": {
    "name": "ipython",
    "version": 3
   },
   "file_extension": ".py",
   "mimetype": "text/x-python",
   "name": "python",
   "nbconvert_exporter": "python",
   "pygments_lexer": "ipython3",
   "version": "3.13.5"
  }
 },
 "nbformat": 4,
 "nbformat_minor": 5
}
